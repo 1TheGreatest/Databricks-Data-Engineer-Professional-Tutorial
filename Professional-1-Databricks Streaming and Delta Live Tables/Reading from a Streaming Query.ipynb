{
 "cells": [
  {
   "cell_type": "code",
   "execution_count": 0,
   "metadata": {
    "application/vnd.databricks.v1+cell": {
     "cellMetadata": {},
     "inputWidgets": {},
     "nuid": "0496883a-5d71-4497-8597-7c25ac9bddb6",
     "showTitle": false,
     "tableResultSettingsMap": {},
     "title": ""
    }
   },
   "outputs": [],
   "source": [
    "%sql\n",
    "use catalog `hive_metastore`;\n",
    "-- use schema `labuser`;"
   ]
  },
  {
   "cell_type": "code",
   "execution_count": 0,
   "metadata": {
    "application/vnd.databricks.v1+cell": {
     "cellMetadata": {},
     "inputWidgets": {},
     "nuid": "47f07a08-f3cf-4f5a-b300-be6c39118a35",
     "showTitle": false,
     "tableResultSettingsMap": {},
     "title": ""
    }
   },
   "outputs": [],
   "source": [
    "%run ../Includes/Classroom-Setup"
   ]
  },
  {
   "cell_type": "code",
   "execution_count": 0,
   "metadata": {
    "application/vnd.databricks.v1+cell": {
     "cellMetadata": {},
     "inputWidgets": {},
     "nuid": "455f951f-fb8a-4381-9bb2-458600cfd079",
     "showTitle": false,
     "tableResultSettingsMap": {},
     "title": ""
    }
   },
   "outputs": [],
   "source": [
    "%sql\n",
    "SHOW TABLES"
   ]
  },
  {
   "cell_type": "code",
   "execution_count": 0,
   "metadata": {
    "application/vnd.databricks.v1+cell": {
     "cellMetadata": {},
     "inputWidgets": {},
     "nuid": "69e5548e-9a4e-4cf0-b48c-c940d4b0497b",
     "showTitle": false,
     "tableResultSettingsMap": {},
     "title": ""
    }
   },
   "outputs": [],
   "source": [
    "%sql\n",
    "use catalog `dbacademy`;\n",
    "use schema `ops`;\n"
   ]
  },
  {
   "cell_type": "code",
   "execution_count": 0,
   "metadata": {
    "application/vnd.databricks.v1+cell": {
     "cellMetadata": {},
     "inputWidgets": {},
     "nuid": "4805a333-7acb-44ee-aca5-e26def9d693e",
     "showTitle": false,
     "tableResultSettingsMap": {},
     "title": ""
    }
   },
   "outputs": [],
   "source": [
    "%sql\n",
    "SHOW TABLES"
   ]
  },
  {
   "cell_type": "markdown",
   "metadata": {
    "application/vnd.databricks.v1+cell": {
     "cellMetadata": {},
     "inputWidgets": {},
     "nuid": "6e3aa733-9ab9-493f-9ba0-0890b07cdce4",
     "showTitle": false,
     "tableResultSettingsMap": {},
     "title": ""
    }
   },
   "source": [
    "# BATCH MODE"
   ]
  },
  {
   "cell_type": "code",
   "execution_count": 0,
   "metadata": {
    "application/vnd.databricks.v1+cell": {
     "cellMetadata": {},
     "inputWidgets": {},
     "nuid": "13c5338a-5dfe-41bf-80c3-3490fa1c0456",
     "showTitle": false,
     "tableResultSettingsMap": {},
     "title": ""
    }
   },
   "outputs": [],
   "source": [
    "from pyspark.sql.functions import col, approx_count_distinct, count\n",
    "\n",
    "batch_df = (spark.read\n",
    "            .load(DA.paths.events)\n",
    "            .filter(col(\"traffic_source\") == \"email\")\n",
    "            .withColumn(\"mobile\", col(\"device\").isin([\"Android\", \"iOS\"]))\n",
    "            .select(\"user_id\", \"event_timestamp\", \"mobile\")\n",
    "            )\n",
    "\n",
    "print(batch_df.isStreaming)\n",
    "\n",
    "display(batch_df)"
   ]
  },
  {
   "cell_type": "markdown",
   "metadata": {
    "application/vnd.databricks.v1+cell": {
     "cellMetadata": {},
     "inputWidgets": {},
     "nuid": "45850286-43f8-4b16-8bb7-7562be3777b1",
     "showTitle": false,
     "tableResultSettingsMap": {},
     "title": ""
    }
   },
   "source": [
    "# STREAMING MODE"
   ]
  },
  {
   "cell_type": "code",
   "execution_count": 0,
   "metadata": {
    "application/vnd.databricks.v1+cell": {
     "cellMetadata": {},
     "inputWidgets": {},
     "nuid": "264b9929-d199-4fd6-936b-b9a0fc4e4860",
     "showTitle": false,
     "tableResultSettingsMap": {},
     "title": ""
    }
   },
   "outputs": [],
   "source": [
    "\n",
    "from pyspark.sql.functions import col, approx_count_distinct, count\n",
    "\n",
    "streaming_df = (spark.readStream\n",
    "            .load(DA.paths.events)\n",
    "            .filter(col(\"traffic_source\") == \"email\")\n",
    "            .withColumn(\"mobile\", col(\"device\").isin([\"Android\", \"iOS\"]))\n",
    "            .select(\"user_id\", \"event_timestamp\", \"mobile\")\n",
    "            )\n",
    "\n",
    "print(streaming_df.isStreaming)\n",
    "\n",
    "display(streaming_df, streamName=\"display_user_devices\")"
   ]
  }
 ],
 "metadata": {
  "application/vnd.databricks.v1+notebook": {
   "computePreferences": null,
   "dashboards": [],
   "environmentMetadata": {
    "base_environment": "",
    "environment_version": "2"
   },
   "inputWidgetPreferences": null,
   "language": "python",
   "notebookMetadata": {
    "pythonIndentUnit": 4
   },
   "notebookName": "Reading from a Streaming Query",
   "widgets": {}
  },
  "language_info": {
   "name": "python"
  }
 },
 "nbformat": 4,
 "nbformat_minor": 0
}
